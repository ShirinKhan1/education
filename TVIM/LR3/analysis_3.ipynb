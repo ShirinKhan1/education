{
 "cells": [
  {
   "cell_type": "code",
   "execution_count": 32,
   "metadata": {},
   "outputs": [],
   "source": [
    "import pandas as pd\n",
    "import numpy as np\n",
    "import matplotlib.pyplot as plt\n",
    "from sklearn.linear_model import LinearRegression\n",
    "from scipy import stats"
   ]
  },
  {
   "cell_type": "markdown",
   "metadata": {},
   "source": [
    "https://www.kaggle.com/datasets/muhammadroshaanriaz/students-performance-dataset-cleaned"
   ]
  },
  {
   "cell_type": "markdown",
   "metadata": {},
   "source": [
    "Набор данных включает в себя:\n",
    "\n",
    "Gender: полезен для анализа различий в успеваемости между учащимися мужского и женского пола.\n",
    "\n",
    "Race/Ethnicity: Позволяет анализировать тенденции в успеваемости в разных расовых или этнических группах.\n",
    "\n",
    "Parental Level of Education: Указывает на уровень образования в семье учащегося.\n",
    "\n",
    "Lunch: Показывает, получают ли учащиеся обед бесплатно или со скидкой, что часто является социально-экономическим показателем.\n",
    "\n",
    "Test Preparation Course: Показывает, прошли ли учащиеся курс подготовки к тестированию, что может повлиять на их успеваемость.\n",
    "\n",
    "math_score: позволяет оценить успеваемость каждого учащегося по математике, которая используется для расчета средних показателей или тенденций в различных демографических группах.\n",
    "\n",
    "reading_score: Измеряет успеваемость в чтении, позволяя получить представление об уровне грамотности и понимания учащимися.\n",
    "\n",
    "writing_score: Оценивает навыки письма учащихся, которые могут быть проанализированы для оценки общей грамотности и выразительности."
   ]
  },
  {
   "cell_type": "code",
   "execution_count": 17,
   "metadata": {},
   "outputs": [
    {
     "data": {
      "text/html": [
       "<div>\n",
       "<style scoped>\n",
       "    .dataframe tbody tr th:only-of-type {\n",
       "        vertical-align: middle;\n",
       "    }\n",
       "\n",
       "    .dataframe tbody tr th {\n",
       "        vertical-align: top;\n",
       "    }\n",
       "\n",
       "    .dataframe thead th {\n",
       "        text-align: right;\n",
       "    }\n",
       "</style>\n",
       "<table border=\"1\" class=\"dataframe\">\n",
       "  <thead>\n",
       "    <tr style=\"text-align: right;\">\n",
       "      <th></th>\n",
       "      <th>gender</th>\n",
       "      <th>race_ethnicity</th>\n",
       "      <th>parental_level_of_education</th>\n",
       "      <th>lunch</th>\n",
       "      <th>test_preparation_course</th>\n",
       "      <th>math_score</th>\n",
       "      <th>reading_score</th>\n",
       "      <th>writing_score</th>\n",
       "      <th>total_score</th>\n",
       "      <th>average_score</th>\n",
       "    </tr>\n",
       "  </thead>\n",
       "  <tbody>\n",
       "    <tr>\n",
       "      <th>0</th>\n",
       "      <td>0</td>\n",
       "      <td>group B</td>\n",
       "      <td>bachelor's degree</td>\n",
       "      <td>1</td>\n",
       "      <td>0</td>\n",
       "      <td>72</td>\n",
       "      <td>72</td>\n",
       "      <td>74</td>\n",
       "      <td>218</td>\n",
       "      <td>72.666667</td>\n",
       "    </tr>\n",
       "    <tr>\n",
       "      <th>1</th>\n",
       "      <td>0</td>\n",
       "      <td>group C</td>\n",
       "      <td>some college</td>\n",
       "      <td>1</td>\n",
       "      <td>1</td>\n",
       "      <td>69</td>\n",
       "      <td>90</td>\n",
       "      <td>88</td>\n",
       "      <td>247</td>\n",
       "      <td>82.333333</td>\n",
       "    </tr>\n",
       "    <tr>\n",
       "      <th>2</th>\n",
       "      <td>0</td>\n",
       "      <td>group B</td>\n",
       "      <td>master's degree</td>\n",
       "      <td>1</td>\n",
       "      <td>0</td>\n",
       "      <td>90</td>\n",
       "      <td>95</td>\n",
       "      <td>93</td>\n",
       "      <td>278</td>\n",
       "      <td>92.666667</td>\n",
       "    </tr>\n",
       "    <tr>\n",
       "      <th>3</th>\n",
       "      <td>1</td>\n",
       "      <td>group A</td>\n",
       "      <td>associate's degree</td>\n",
       "      <td>0</td>\n",
       "      <td>0</td>\n",
       "      <td>47</td>\n",
       "      <td>57</td>\n",
       "      <td>44</td>\n",
       "      <td>148</td>\n",
       "      <td>49.333333</td>\n",
       "    </tr>\n",
       "    <tr>\n",
       "      <th>4</th>\n",
       "      <td>1</td>\n",
       "      <td>group C</td>\n",
       "      <td>some college</td>\n",
       "      <td>1</td>\n",
       "      <td>0</td>\n",
       "      <td>76</td>\n",
       "      <td>78</td>\n",
       "      <td>75</td>\n",
       "      <td>229</td>\n",
       "      <td>76.333333</td>\n",
       "    </tr>\n",
       "  </tbody>\n",
       "</table>\n",
       "</div>"
      ],
      "text/plain": [
       "   gender race_ethnicity parental_level_of_education  lunch  \\\n",
       "0       0        group B           bachelor's degree      1   \n",
       "1       0        group C                some college      1   \n",
       "2       0        group B             master's degree      1   \n",
       "3       1        group A          associate's degree      0   \n",
       "4       1        group C                some college      1   \n",
       "\n",
       "   test_preparation_course  math_score  reading_score  writing_score  \\\n",
       "0                        0          72             72             74   \n",
       "1                        1          69             90             88   \n",
       "2                        0          90             95             93   \n",
       "3                        0          47             57             44   \n",
       "4                        0          76             78             75   \n",
       "\n",
       "   total_score  average_score  \n",
       "0          218      72.666667  \n",
       "1          247      82.333333  \n",
       "2          278      92.666667  \n",
       "3          148      49.333333  \n",
       "4          229      76.333333  "
      ]
     },
     "execution_count": 17,
     "metadata": {},
     "output_type": "execute_result"
    }
   ],
   "source": [
    "df = pd.read_csv('Cleaned_Students_Performance.csv')\n",
    "df.head()"
   ]
  },
  {
   "cell_type": "code",
   "execution_count": 21,
   "metadata": {},
   "outputs": [
    {
     "name": "stderr",
     "output_type": "stream",
     "text": [
      "C:\\Users\\rshir\\AppData\\Local\\Temp\\ipykernel_10832\\2355143037.py:1: FutureWarning: The default value of numeric_only in DataFrame.corr is deprecated. In a future version, it will default to False. Select only valid columns or specify the value of numeric_only to silence this warning.\n",
      "  corr_matrix = df.corr()\n"
     ]
    },
    {
     "data": {
      "text/html": [
       "<div>\n",
       "<style scoped>\n",
       "    .dataframe tbody tr th:only-of-type {\n",
       "        vertical-align: middle;\n",
       "    }\n",
       "\n",
       "    .dataframe tbody tr th {\n",
       "        vertical-align: top;\n",
       "    }\n",
       "\n",
       "    .dataframe thead th {\n",
       "        text-align: right;\n",
       "    }\n",
       "</style>\n",
       "<table border=\"1\" class=\"dataframe\">\n",
       "  <thead>\n",
       "    <tr style=\"text-align: right;\">\n",
       "      <th></th>\n",
       "      <th>gender</th>\n",
       "      <th>lunch</th>\n",
       "      <th>test_preparation_course</th>\n",
       "      <th>math_score</th>\n",
       "      <th>reading_score</th>\n",
       "      <th>writing_score</th>\n",
       "      <th>total_score</th>\n",
       "      <th>average_score</th>\n",
       "    </tr>\n",
       "  </thead>\n",
       "  <tbody>\n",
       "    <tr>\n",
       "      <th>gender</th>\n",
       "      <td>1.000000</td>\n",
       "      <td>0.021372</td>\n",
       "      <td>0.006028</td>\n",
       "      <td>0.167982</td>\n",
       "      <td>-0.244313</td>\n",
       "      <td>-0.301225</td>\n",
       "      <td>-0.130861</td>\n",
       "      <td>-0.130861</td>\n",
       "    </tr>\n",
       "    <tr>\n",
       "      <th>lunch</th>\n",
       "      <td>0.021372</td>\n",
       "      <td>1.000000</td>\n",
       "      <td>-0.017044</td>\n",
       "      <td>0.350877</td>\n",
       "      <td>0.229560</td>\n",
       "      <td>0.245769</td>\n",
       "      <td>0.290064</td>\n",
       "      <td>0.290064</td>\n",
       "    </tr>\n",
       "    <tr>\n",
       "      <th>test_preparation_course</th>\n",
       "      <td>0.006028</td>\n",
       "      <td>-0.017044</td>\n",
       "      <td>1.000000</td>\n",
       "      <td>0.177702</td>\n",
       "      <td>0.241780</td>\n",
       "      <td>0.312946</td>\n",
       "      <td>0.256710</td>\n",
       "      <td>0.256710</td>\n",
       "    </tr>\n",
       "    <tr>\n",
       "      <th>math_score</th>\n",
       "      <td>0.167982</td>\n",
       "      <td>0.350877</td>\n",
       "      <td>0.177702</td>\n",
       "      <td>1.000000</td>\n",
       "      <td>0.817580</td>\n",
       "      <td>0.802642</td>\n",
       "      <td>0.918746</td>\n",
       "      <td>0.918746</td>\n",
       "    </tr>\n",
       "    <tr>\n",
       "      <th>reading_score</th>\n",
       "      <td>-0.244313</td>\n",
       "      <td>0.229560</td>\n",
       "      <td>0.241780</td>\n",
       "      <td>0.817580</td>\n",
       "      <td>1.000000</td>\n",
       "      <td>0.954598</td>\n",
       "      <td>0.970331</td>\n",
       "      <td>0.970331</td>\n",
       "    </tr>\n",
       "    <tr>\n",
       "      <th>writing_score</th>\n",
       "      <td>-0.301225</td>\n",
       "      <td>0.245769</td>\n",
       "      <td>0.312946</td>\n",
       "      <td>0.802642</td>\n",
       "      <td>0.954598</td>\n",
       "      <td>1.000000</td>\n",
       "      <td>0.965667</td>\n",
       "      <td>0.965667</td>\n",
       "    </tr>\n",
       "    <tr>\n",
       "      <th>total_score</th>\n",
       "      <td>-0.130861</td>\n",
       "      <td>0.290064</td>\n",
       "      <td>0.256710</td>\n",
       "      <td>0.918746</td>\n",
       "      <td>0.970331</td>\n",
       "      <td>0.965667</td>\n",
       "      <td>1.000000</td>\n",
       "      <td>1.000000</td>\n",
       "    </tr>\n",
       "    <tr>\n",
       "      <th>average_score</th>\n",
       "      <td>-0.130861</td>\n",
       "      <td>0.290064</td>\n",
       "      <td>0.256710</td>\n",
       "      <td>0.918746</td>\n",
       "      <td>0.970331</td>\n",
       "      <td>0.965667</td>\n",
       "      <td>1.000000</td>\n",
       "      <td>1.000000</td>\n",
       "    </tr>\n",
       "  </tbody>\n",
       "</table>\n",
       "</div>"
      ],
      "text/plain": [
       "                           gender     lunch  test_preparation_course  \\\n",
       "gender                   1.000000  0.021372                 0.006028   \n",
       "lunch                    0.021372  1.000000                -0.017044   \n",
       "test_preparation_course  0.006028 -0.017044                 1.000000   \n",
       "math_score               0.167982  0.350877                 0.177702   \n",
       "reading_score           -0.244313  0.229560                 0.241780   \n",
       "writing_score           -0.301225  0.245769                 0.312946   \n",
       "total_score             -0.130861  0.290064                 0.256710   \n",
       "average_score           -0.130861  0.290064                 0.256710   \n",
       "\n",
       "                         math_score  reading_score  writing_score  \\\n",
       "gender                     0.167982      -0.244313      -0.301225   \n",
       "lunch                      0.350877       0.229560       0.245769   \n",
       "test_preparation_course    0.177702       0.241780       0.312946   \n",
       "math_score                 1.000000       0.817580       0.802642   \n",
       "reading_score              0.817580       1.000000       0.954598   \n",
       "writing_score              0.802642       0.954598       1.000000   \n",
       "total_score                0.918746       0.970331       0.965667   \n",
       "average_score              0.918746       0.970331       0.965667   \n",
       "\n",
       "                         total_score  average_score  \n",
       "gender                     -0.130861      -0.130861  \n",
       "lunch                       0.290064       0.290064  \n",
       "test_preparation_course     0.256710       0.256710  \n",
       "math_score                  0.918746       0.918746  \n",
       "reading_score               0.970331       0.970331  \n",
       "writing_score               0.965667       0.965667  \n",
       "total_score                 1.000000       1.000000  \n",
       "average_score               1.000000       1.000000  "
      ]
     },
     "execution_count": 21,
     "metadata": {},
     "output_type": "execute_result"
    }
   ],
   "source": [
    "corr_matrix = df.corr()\n",
    "corr_matrix"
   ]
  },
  {
   "cell_type": "code",
   "execution_count": 23,
   "metadata": {},
   "outputs": [
    {
     "data": {
      "text/plain": [
       "gender                     0.167982\n",
       "lunch                      0.350877\n",
       "test_preparation_course    0.177702\n",
       "math_score                 1.000000\n",
       "reading_score              0.817580\n",
       "writing_score              0.802642\n",
       "total_score                0.918746\n",
       "average_score              0.918746\n",
       "Name: math_score, dtype: float64"
      ]
     },
     "execution_count": 23,
     "metadata": {},
     "output_type": "execute_result"
    }
   ],
   "source": [
    "corr_matrix.math_score"
   ]
  },
  {
   "cell_type": "code",
   "execution_count": null,
   "metadata": {},
   "outputs": [
    {
     "data": {
      "text/plain": [
       "Text(0, 0.5, 'Math Score')"
      ]
     },
     "execution_count": 25,
     "metadata": {},
     "output_type": "execute_result"
    },
    {
     "data": {
      "image/png": "[encoded data removed]",
      "text/plain": [
       "<Figure size 640x480 with 1 Axes>"
      ]
     },
     "metadata": {},
     "output_type": "display_data"
    }
   ],
   "source": [
    "plt.scatter(df['reading_score'], df['math_score'], color='blue', label='Данные')\n",
    "plt.title('Диаграмма рассеяния: math_score vs reading_score')\n",
    "plt.xlabel('reading_score')\n",
    "plt.ylabel('math_score')"
   ]
  },
  {
   "cell_type": "code",
   "execution_count": 26,
   "metadata": {},
   "outputs": [
    {
     "data": {
      "image/png": "[encoded data removed]",
      "text/plain": [
       "<Figure size 640x480 with 1 Axes>"
      ]
     },
     "metadata": {},
     "output_type": "display_data"
    }
   ],
   "source": [
    "# Подготовка данных для регрессии\n",
    "X = df[['reading_score']]\n",
    "y = df['math_score']\n",
    "\n",
    "# Создание модели линейной регрессии\n",
    "model = LinearRegression()\n",
    "model.fit(X, y)\n",
    "\n",
    "# Получение предсказанных значений\n",
    "y_pred = model.predict(X)\n",
    "\n",
    "# Построение линии аппроксимации\n",
    "plt.plot(df['reading_score'], y_pred, color='red', label='Линия аппроксимации')\n",
    "plt.legend()\n",
    "plt.show()"
   ]
  },
  {
   "cell_type": "code",
   "execution_count": 27,
   "metadata": {},
   "outputs": [
    {
     "name": "stdout",
     "output_type": "stream",
     "text": [
      "Коэффициент детерминации R^2: 0.67\n"
     ]
    }
   ],
   "source": [
    "# Вычисление R^2\n",
    "r_squared = model.score(X, y)\n",
    "print(f'Коэффициент детерминации R^2: {r_squared:.2f}')"
   ]
  },
  {
   "cell_type": "code",
   "execution_count": 29,
   "metadata": {},
   "outputs": [],
   "source": [
    "# Случайная выборка ~1/3 наблюдений\n",
    "random_sample = df.sample(frac=1/3, random_state=42)  # random_state для воспроизводимости\n",
    "# Стратифицированная выборка по полу\n",
    "stratified_sample = df.groupby('race_ethnicity').apply(lambda x: x.sample(frac=1/3)).reset_index(drop=True)"
   ]
  },
  {
   "cell_type": "code",
   "execution_count": 34,
   "metadata": {},
   "outputs": [
    {
     "data": {
      "text/html": [
       "<div>\n",
       "<style scoped>\n",
       "    .dataframe tbody tr th:only-of-type {\n",
       "        vertical-align: middle;\n",
       "    }\n",
       "\n",
       "    .dataframe tbody tr th {\n",
       "        vertical-align: top;\n",
       "    }\n",
       "\n",
       "    .dataframe thead th {\n",
       "        text-align: right;\n",
       "    }\n",
       "</style>\n",
       "<table border=\"1\" class=\"dataframe\">\n",
       "  <thead>\n",
       "    <tr style=\"text-align: right;\">\n",
       "      <th></th>\n",
       "      <th>gender</th>\n",
       "      <th>race_ethnicity</th>\n",
       "      <th>parental_level_of_education</th>\n",
       "      <th>lunch</th>\n",
       "      <th>test_preparation_course</th>\n",
       "      <th>math_score</th>\n",
       "      <th>reading_score</th>\n",
       "      <th>writing_score</th>\n",
       "      <th>total_score</th>\n",
       "      <th>average_score</th>\n",
       "    </tr>\n",
       "  </thead>\n",
       "  <tbody>\n",
       "    <tr>\n",
       "      <th>521</th>\n",
       "      <td>0</td>\n",
       "      <td>group C</td>\n",
       "      <td>associate's degree</td>\n",
       "      <td>1</td>\n",
       "      <td>0</td>\n",
       "      <td>91</td>\n",
       "      <td>86</td>\n",
       "      <td>84</td>\n",
       "      <td>261</td>\n",
       "      <td>87.0</td>\n",
       "    </tr>\n",
       "    <tr>\n",
       "      <th>737</th>\n",
       "      <td>0</td>\n",
       "      <td>group B</td>\n",
       "      <td>some college</td>\n",
       "      <td>0</td>\n",
       "      <td>1</td>\n",
       "      <td>53</td>\n",
       "      <td>66</td>\n",
       "      <td>73</td>\n",
       "      <td>192</td>\n",
       "      <td>64.0</td>\n",
       "    </tr>\n",
       "  </tbody>\n",
       "</table>\n",
       "</div>"
      ],
      "text/plain": [
       "     gender race_ethnicity parental_level_of_education  lunch  \\\n",
       "521       0        group C          associate's degree      1   \n",
       "737       0        group B                some college      0   \n",
       "\n",
       "     test_preparation_course  math_score  reading_score  writing_score  \\\n",
       "521                        0          91             86             84   \n",
       "737                        1          53             66             73   \n",
       "\n",
       "     total_score  average_score  \n",
       "521          261           87.0  \n",
       "737          192           64.0  "
      ]
     },
     "execution_count": 34,
     "metadata": {},
     "output_type": "execute_result"
    }
   ],
   "source": [
    "random_sample.head(2)"
   ]
  },
  {
   "cell_type": "code",
   "execution_count": 35,
   "metadata": {},
   "outputs": [
    {
     "name": "stdout",
     "output_type": "stream",
     "text": [
      "Средние значения случайной выборки:\n",
      "math_score       65.051051\n",
      "reading_score    68.150150\n",
      "writing_score    66.990991\n",
      "dtype: float64\n",
      "\n",
      "Средние значения стратифицированной выборки:\n",
      "math_score       66.255255\n",
      "reading_score    69.657658\n",
      "writing_score    68.222222\n",
      "dtype: float64\n",
      "\n",
      "Средние значения генеральной выборки:\n",
      "math_score       66.089\n",
      "reading_score    69.169\n",
      "writing_score    68.054\n",
      "dtype: float64\n"
     ]
    }
   ],
   "source": [
    "# Средние значения\n",
    "mean_random = random_sample[['math_score', 'reading_score', 'writing_score']].mean()\n",
    "mean_stratified = stratified_sample[['math_score', 'reading_score', 'writing_score']].mean()\n",
    "mean_population = df[['math_score', 'reading_score', 'writing_score']].mean()\n",
    "\n",
    "print(\"Средние значения случайной выборки:\")\n",
    "print(mean_random)\n",
    "\n",
    "print(\"\\nСредние значения стратифицированной выборки:\")\n",
    "print(mean_stratified)\n",
    "\n",
    "print(\"\\nСредние значения генеральной выборки:\")\n",
    "print(mean_population)"
   ]
  },
  {
   "cell_type": "code",
   "execution_count": 36,
   "metadata": {},
   "outputs": [
    {
     "name": "stdout",
     "output_type": "stream",
     "text": [
      "\n",
      "Доверительные интервалы случайной выборки:\n",
      "Math: (63.375709020725715, 66.72639308137639), Reading: (66.49474966109088, 69.80555063920943), Writing: (65.25946326119039, 68.7225187207916)\n",
      "\n",
      "Доверительные интервалы стратифицированной выборки:\n",
      "Math: (64.66308985907436, 67.84742065143614), Reading: (68.1938192654831, 71.1214960498322), Writing: (66.65268199855, 69.79176244589446)\n",
      "\n",
      "Доверительные интервалы генеральной выборки:\n",
      "Math: (65.14805983128305, 67.02994016871695), Reading: (68.26298967902613, 70.07501032097386), Writing: (67.11103828107223, 68.99696171892778)\n"
     ]
    }
   ],
   "source": [
    "def confidence_interval(data, confidence=0.95):\n",
    "    mean = np.mean(data)\n",
    "    std_dev = np.std(data, ddof=1)  # Используем ddof=1 для выборочной оценки\n",
    "    n = len(data)\n",
    "    h = std_dev * stats.t.ppf((1 + confidence) / 2., n - 1) / np.sqrt(n)\n",
    "    return mean - h, mean + h\n",
    "\n",
    "# Доверительные интервалы для случайной выборки\n",
    "ci_random_math = confidence_interval(random_sample['math_score'])\n",
    "ci_random_reading = confidence_interval(random_sample['reading_score'])\n",
    "ci_random_writing = confidence_interval(random_sample['writing_score'])\n",
    "\n",
    "# Доверительные интервалы для стратифицированной выборки\n",
    "ci_stratified_math = confidence_interval(stratified_sample['math_score'])\n",
    "ci_stratified_reading = confidence_interval(stratified_sample['reading_score'])\n",
    "ci_stratified_writing = confidence_interval(stratified_sample['writing_score'])\n",
    "\n",
    "# Доверительные интервалы для генеральной выборки\n",
    "ci_population_math = confidence_interval(df['math_score'])\n",
    "ci_population_reading = confidence_interval(df['reading_score'])\n",
    "ci_population_writing = confidence_interval(df['writing_score'])\n",
    "\n",
    "print(\"\\nДоверительные интервалы случайной выборки:\")\n",
    "print(f\"Math: {ci_random_math}, Reading: {ci_random_reading}, Writing: {ci_random_writing}\")\n",
    "\n",
    "print(\"\\nДоверительные интервалы стратифицированной выборки:\")\n",
    "print(f\"Math: {ci_stratified_math}, Reading: {ci_stratified_reading}, Writing: {ci_stratified_writing}\")\n",
    "\n",
    "print(\"\\nДоверительные интервалы генеральной выборки:\")\n",
    "print(f\"Math: {ci_population_math}, Reading: {ci_population_reading}, Writing: {ci_population_writing}\")"
   ]
  }
 ],
 "metadata": {
  "kernelspec": {
   "display_name": "Python 3",
   "language": "python",
   "name": "python3"
  },
  "language_info": {
   "codemirror_mode": {
    "name": "ipython",
    "version": 3
   },
   "file_extension": ".py",
   "mimetype": "text/x-python",
   "name": "python",
   "nbconvert_exporter": "python",
   "pygments_lexer": "ipython3",
   "version": "3.11.9"
  }
 },
 "nbformat": 4,
 "nbformat_minor": 2
}
